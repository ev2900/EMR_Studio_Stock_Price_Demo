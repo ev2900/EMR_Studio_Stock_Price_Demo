{
 "cells": [
  {
   "cell_type": "markdown",
   "metadata": {},
   "source": [
    "# Session Configuration, Library Install ..."
   ]
  },
  {
   "cell_type": "code",
   "execution_count": 1,
   "metadata": {
    "execution": {
     "iopub.execute_input": "2022-04-02T23:10:24.934400Z",
     "iopub.status.busy": "2022-04-02T23:10:24.934160Z",
     "iopub.status.idle": "2022-04-02T23:11:00.683228Z",
     "shell.execute_reply": "2022-04-02T23:11:00.682446Z",
     "shell.execute_reply.started": "2022-04-02T23:10:24.934372Z"
    },
    "tags": []
   },
   "outputs": [
    {
     "data": {
      "application/vnd.jupyter.widget-view+json": {
       "model_id": "96db71375a734cd38cbcacc752cd71a1",
       "version_major": 2,
       "version_minor": 0
      },
      "text/plain": [
       "VBox()"
      ]
     },
     "metadata": {},
     "output_type": "display_data"
    },
    {
     "name": "stdout",
     "output_type": "stream",
     "text": [
      "Starting Spark application\n"
     ]
    },
    {
     "data": {
      "text/html": [
       "<table>\n",
       "<tbody><tr><th>ID</th><th>YARN Application ID</th><th>Kind</th><th>State</th><th>Spark UI</th><th>Driver log</th><th>User</th><th>Current session?</th></tr><tr><td>0</td><td>application_1648939494839_0001</td><td>pyspark</td><td>idle</td><td><a target=\"_blank\" href=\"http://ip-10-0-21-167.ec2.internal:20888/proxy/application_1648939494839_0001/\" class=\"emr-proxy-link j-140NOR6K12L0H application_1648939494839_0001\" emr-resource=\"j-140NOR6K12L0H\n",
       "\" application-id=\"application_1648939494839_0001\">Link</a></td><td><a target=\"_blank\" href=\"http://ip-10-0-21-167.ec2.internal:8042/node/containerlogs/container_1648939494839_0001_01_000001/livy\">Link</a></td><td>None</td><td>✔</td></tr></tbody></table>"
      ],
      "text/plain": [
       "<IPython.core.display.HTML object>"
      ]
     },
     "metadata": {},
     "output_type": "display_data"
    },
    {
     "data": {
      "application/vnd.jupyter.widget-view+json": {
       "model_id": "",
       "version_major": 2,
       "version_minor": 0
      },
      "text/plain": [
       "FloatProgress(value=0.0, bar_style='info', description='Progress:', layout=Layout(height='25px', width='50%'),…"
      ]
     },
     "metadata": {},
     "output_type": "display_data"
    },
    {
     "name": "stdout",
     "output_type": "stream",
     "text": [
      "SparkSession available as 'spark'.\n"
     ]
    },
    {
     "data": {
      "application/vnd.jupyter.widget-view+json": {
       "model_id": "",
       "version_major": 2,
       "version_minor": 0
      },
      "text/plain": [
       "FloatProgress(value=0.0, bar_style='info', description='Progress:', layout=Layout(height='25px', width='50%'),…"
      ]
     },
     "metadata": {},
     "output_type": "display_data"
    },
    {
     "name": "stdout",
     "output_type": "stream",
     "text": [
      "<pyspark.sql.session.SparkSession object at 0x7fa8bfd759d0>"
     ]
    }
   ],
   "source": [
    "from pyspark.sql import SparkSession\n",
    "from pyspark.sql import *\n",
    "from pyspark.sql.functions import *\n",
    "from pyspark.ml.stat import Correlation\n",
    "from pyspark.ml.feature import VectorAssembler\n",
    "\n",
    "SparkSession.builder.appName(\"Minute Stock Price Data\").getOrCreate()"
   ]
  },
  {
   "cell_type": "code",
   "execution_count": null,
   "metadata": {
    "scrolled": true,
    "tags": []
   },
   "outputs": [],
   "source": [
    "# sc.list_packages()\n",
    "sc.install_pypi_package(\"pandas==0.25.1\")\n",
    "sc.install_pypi_package(\"numpy\")\n",
    "sc.install_pypi_package(\"matplotlib==3.1.1\", \"https://pypi.org/simple\")"
   ]
  },
  {
   "cell_type": "code",
   "execution_count": 3,
   "metadata": {
    "execution": {
     "iopub.execute_input": "2022-04-02T23:11:22.117501Z",
     "iopub.status.busy": "2022-04-02T23:11:22.117300Z",
     "iopub.status.idle": "2022-04-02T23:11:24.436271Z",
     "shell.execute_reply": "2022-04-02T23:11:24.435637Z",
     "shell.execute_reply.started": "2022-04-02T23:11:22.117469Z"
    },
    "tags": []
   },
   "outputs": [
    {
     "data": {
      "application/vnd.jupyter.widget-view+json": {
       "model_id": "1eb04a19c6234491ad3342032c837f8a",
       "version_major": 2,
       "version_minor": 0
      },
      "text/plain": [
       "VBox()"
      ]
     },
     "metadata": {},
     "output_type": "display_data"
    },
    {
     "data": {
      "application/vnd.jupyter.widget-view+json": {
       "model_id": "",
       "version_major": 2,
       "version_minor": 0
      },
      "text/plain": [
       "FloatProgress(value=0.0, bar_style='info', description='Progress:', layout=Layout(height='25px', width='50%'),…"
      ]
     },
     "metadata": {},
     "output_type": "display_data"
    }
   ],
   "source": [
    "import pandas as pd\n",
    "import numpy as np\n",
    "import matplotlib.pyplot as plt\n",
    "import matplotlib.dates as mdates"
   ]
  },
  {
   "cell_type": "markdown",
   "metadata": {},
   "source": [
    "# Load Minute Pricing Data for 3000 Stock over 2 yrs (~8 GB)"
   ]
  },
  {
   "cell_type": "code",
   "execution_count": 4,
   "metadata": {
    "execution": {
     "iopub.execute_input": "2022-04-02T23:11:24.437880Z",
     "iopub.status.busy": "2022-04-02T23:11:24.437621Z",
     "iopub.status.idle": "2022-04-02T23:14:00.766183Z",
     "shell.execute_reply": "2022-04-02T23:14:00.765551Z",
     "shell.execute_reply.started": "2022-04-02T23:11:24.437845Z"
    },
    "tags": []
   },
   "outputs": [
    {
     "data": {
      "application/vnd.jupyter.widget-view+json": {
       "model_id": "cdbc25adcd1548a98703dbe08f667c24",
       "version_major": 2,
       "version_minor": 0
      },
      "text/plain": [
       "VBox()"
      ]
     },
     "metadata": {},
     "output_type": "display_data"
    },
    {
     "data": {
      "application/vnd.jupyter.widget-view+json": {
       "model_id": "",
       "version_major": 2,
       "version_minor": 0
      },
      "text/plain": [
       "FloatProgress(value=0.0, bar_style='info', description='Progress:', layout=Layout(height='25px', width='50%'),…"
      ]
     },
     "metadata": {},
     "output_type": "display_data"
    }
   ],
   "source": [
    "# Load the minute price data for 3000 stocks for the past 2 years\n",
    "pricing_minute = spark.read.option(\"header\", \"true\").option(\"inferSchema\", \"true\").csv(\"s3://example-data-sharkech/minute_price_3000_stocks_2_yrs/\")"
   ]
  },
  {
   "cell_type": "code",
   "execution_count": null,
   "metadata": {
    "scrolled": true,
    "tags": []
   },
   "outputs": [],
   "source": [
    "# Debugging / validating the output\n",
    "\n",
    "pricing_minute.show(1)\n",
    "pricing_minute.printSchema()\n",
    "\n",
    "df = pricing_minute.select(\"time\")\n",
    "df.show()"
   ]
  },
  {
   "cell_type": "code",
   "execution_count": 6,
   "metadata": {
    "execution": {
     "iopub.execute_input": "2022-04-02T23:14:08.315948Z",
     "iopub.status.busy": "2022-04-02T23:14:08.315648Z",
     "iopub.status.idle": "2022-04-02T23:14:09.107663Z",
     "shell.execute_reply": "2022-04-02T23:14:09.107086Z",
     "shell.execute_reply.started": "2022-04-02T23:14:08.315910Z"
    }
   },
   "outputs": [
    {
     "data": {
      "application/vnd.jupyter.widget-view+json": {
       "model_id": "eb9f28e3104c4b14bfa2fd54617987f9",
       "version_major": 2,
       "version_minor": 0
      },
      "text/plain": [
       "VBox()"
      ]
     },
     "metadata": {},
     "output_type": "display_data"
    },
    {
     "data": {
      "application/vnd.jupyter.widget-view+json": {
       "model_id": "",
       "version_major": 2,
       "version_minor": 0
      },
      "text/plain": [
       "FloatProgress(value=0.0, bar_style='info', description='Progress:', layout=Layout(height='25px', width='50%'),…"
      ]
     },
     "metadata": {},
     "output_type": "display_data"
    }
   ],
   "source": [
    "# Correct data type issues. Convert time feild from a string to a timestamp\n",
    "pricing_minute = pricing_minute.withColumn(\"timestamp\", to_timestamp(\"time\"))\n",
    "pricing_minute = pricing_minute.drop(\"time\")\n",
    "\n",
    "# Add the year, month, dayofmonth columns for rolls up\n",
    "pricing_minute = pricing_minute.withColumn(\"year\", year(\"timestamp\"))\n",
    "pricing_minute = pricing_minute.withColumn(\"month\", month(\"timestamp\"))\n",
    "pricing_minute = pricing_minute.withColumn(\"dayofmonth\", dayofmonth(\"timestamp\"))"
   ]
  },
  {
   "cell_type": "markdown",
   "metadata": {},
   "source": [
    "# Load Fundamentals Data for all Stocks"
   ]
  },
  {
   "cell_type": "code",
   "execution_count": 7,
   "metadata": {
    "execution": {
     "iopub.execute_input": "2022-04-02T23:14:09.108644Z",
     "iopub.status.busy": "2022-04-02T23:14:09.108455Z",
     "iopub.status.idle": "2022-04-02T23:14:10.390577Z",
     "shell.execute_reply": "2022-04-02T23:14:10.389998Z",
     "shell.execute_reply.started": "2022-04-02T23:14:09.108617Z"
    }
   },
   "outputs": [
    {
     "data": {
      "application/vnd.jupyter.widget-view+json": {
       "model_id": "eb48c82d1d7647dfa5e0ed81d549610a",
       "version_major": 2,
       "version_minor": 0
      },
      "text/plain": [
       "VBox()"
      ]
     },
     "metadata": {},
     "output_type": "display_data"
    },
    {
     "data": {
      "application/vnd.jupyter.widget-view+json": {
       "model_id": "",
       "version_major": 2,
       "version_minor": 0
      },
      "text/plain": [
       "FloatProgress(value=0.0, bar_style='info', description='Progress:', layout=Layout(height='25px', width='50%'),…"
      ]
     },
     "metadata": {},
     "output_type": "display_data"
    }
   ],
   "source": [
    "# Load the fundamental data\n",
    "fundamentals = spark.read.option(\"header\", \"true\").option(\"inferSchema\", \"true\").csv(\"s3://example-data-sharkech/fundamental_data/\")"
   ]
  },
  {
   "cell_type": "code",
   "execution_count": null,
   "metadata": {
    "scrolled": true,
    "tags": []
   },
   "outputs": [],
   "source": [
    "# Debugging / validating the output\n",
    "\n",
    "fundamentals.show(1)\n",
    "fundamentals.printSchema()"
   ]
  },
  {
   "cell_type": "markdown",
   "metadata": {},
   "source": [
    "# Pricing Data via. Spark + Pandas"
   ]
  },
  {
   "cell_type": "code",
   "execution_count": 9,
   "metadata": {
    "execution": {
     "iopub.execute_input": "2022-04-02T23:14:11.239790Z",
     "iopub.status.busy": "2022-04-02T23:14:11.239531Z",
     "iopub.status.idle": "2022-04-02T23:16:13.343887Z",
     "shell.execute_reply": "2022-04-02T23:16:13.343094Z",
     "shell.execute_reply.started": "2022-04-02T23:14:11.239755Z"
    },
    "tags": []
   },
   "outputs": [
    {
     "data": {
      "application/vnd.jupyter.widget-view+json": {
       "model_id": "ce92e45eaadf4ae5aea35a3b733fd319",
       "version_major": 2,
       "version_minor": 0
      },
      "text/plain": [
       "VBox()"
      ]
     },
     "metadata": {},
     "output_type": "display_data"
    },
    {
     "data": {
      "application/vnd.jupyter.widget-view+json": {
       "model_id": "",
       "version_major": 2,
       "version_minor": 0
      },
      "text/plain": [
       "FloatProgress(value=0.0, bar_style='info', description='Progress:', layout=Layout(height='25px', width='50%'),…"
      ]
     },
     "metadata": {},
     "output_type": "display_data"
    },
    {
     "name": "stdout",
     "output_type": "stream",
     "text": [
      "+----+------------------+\n",
      "|year|          avg(AAL)|\n",
      "+----+------------------+\n",
      "|2019|29.199624763714716|\n",
      "|2020|15.298829816920481|\n",
      "|2021|19.992139054194876|\n",
      "+----+------------------+\n",
      "\n",
      "+----+-----+------------------+\n",
      "|year|month|          avg(AAL)|\n",
      "+----+-----+------------------+\n",
      "|2019|    5| 30.63287532536962|\n",
      "|2019|    6|31.004839185677167|\n",
      "|2019|    7| 32.43592605478944|\n",
      "|2019|    8|26.869529687125635|\n",
      "|2019|    9| 27.84115163716084|\n",
      "|2019|   10|27.817315126606037|\n",
      "|2019|   11|29.475506894267237|\n",
      "|2019|   12|27.978391344158144|\n",
      "|2020|    1|27.436449974410067|\n",
      "|2020|    2|27.174169856145525|\n",
      "|2020|    3|14.655740827952906|\n",
      "|2020|    4|11.144755772138758|\n",
      "|2020|    5|10.009361590992043|\n",
      "|2020|    6| 15.10013720643113|\n",
      "|2020|    7|11.911580462233365|\n",
      "|2020|    8| 12.92531167511054|\n",
      "|2020|    9| 12.91991842066858|\n",
      "|2020|   10| 12.43187615978769|\n",
      "|2020|   11| 12.67757011036826|\n",
      "|2020|   12| 16.39046824516564|\n",
      "+----+-----+------------------+\n",
      "only showing top 20 rows"
     ]
    }
   ],
   "source": [
    "# Options : count(), mean(), max(), min(), sum(), avg(), agg()\n",
    "\n",
    "#\n",
    "# 1 Stock\n",
    "#\n",
    "\n",
    "# Average price per year for 1 stock\n",
    "pricing_minute_agg = pricing_minute.groupBy(\"year\").mean(\"AAL\").orderBy(\"year\").show()\n",
    "\n",
    "# Average price per year and month for a single stock\n",
    "pricing_minute_agg = pricing_minute.groupBy(\"year\", \"month\").mean(\"AAL\").orderBy(\"year\", \"month\").show()\n",
    "\n",
    "# Average price per year, month and day for a single stock\n",
    "# pricing_minute_agg = pricing_minute.groupBy(\"year\", \"month\", \"dayofmonth\").mean(\"AAL\").orderBy(\"year\", \"month\", \"dayofmonth\").show(100)"
   ]
  },
  {
   "cell_type": "markdown",
   "metadata": {
    "tags": []
   },
   "source": [
    "## Average Stock Price - Chart"
   ]
  },
  {
   "cell_type": "code",
   "execution_count": 10,
   "metadata": {
    "execution": {
     "iopub.execute_input": "2022-04-02T23:16:13.345484Z",
     "iopub.status.busy": "2022-04-02T23:16:13.345201Z",
     "iopub.status.idle": "2022-04-02T23:17:21.613272Z",
     "shell.execute_reply": "2022-04-02T23:17:21.612624Z",
     "shell.execute_reply.started": "2022-04-02T23:16:13.345415Z"
    },
    "tags": []
   },
   "outputs": [
    {
     "data": {
      "application/vnd.jupyter.widget-view+json": {
       "model_id": "2ec95636d09e4587840785a34ac1da9f",
       "version_major": 2,
       "version_minor": 0
      },
      "text/plain": [
       "VBox()"
      ]
     },
     "metadata": {},
     "output_type": "display_data"
    },
    {
     "data": {
      "application/vnd.jupyter.widget-view+json": {
       "model_id": "",
       "version_major": 2,
       "version_minor": 0
      },
      "text/plain": [
       "FloatProgress(value=0.0, bar_style='info', description='Progress:', layout=Layout(height='25px', width='50%'),…"
      ]
     },
     "metadata": {},
     "output_type": "display_data"
    },
    {
     "data": {
      "image/png": "[encoded data removed]",
      "text/plain": [
       "<IPython.core.display.Image object>"
      ]
     },
     "metadata": {},
     "output_type": "display_data"
    }
   ],
   "source": [
    "# Visualize results - line chart\n",
    "pricing_minute_agg = pricing_minute.groupBy(\"year\", \"month\", \"dayofmonth\").mean(\"AAL\").orderBy(\"year\", \"month\", \"dayofmonth\")\n",
    "pricing_minute_agg = pricing_minute_agg.withColumn(\"month/day/year\", concat(\"month\", lit(\"/\"), \"dayofmonth\", lit(\"/\"), \"year\"))\n",
    "pricing_minute_agg = pricing_minute_agg.select(\"month/day/year\", col(\"avg(AAL)\").alias(\"AAL\"))\n",
    "\n",
    "pricing_minute_agg_pd = pricing_minute_agg.toPandas()\n",
    "\n",
    "pricing_minute_agg_pd['month/day/year'] = pd.to_datetime(pricing_minute_agg_pd['month/day/year'], format='%m/%d/%Y')\n",
    "\n",
    "x = pricing_minute_agg_pd[\"month/day/year\"]\n",
    "y = pricing_minute_agg_pd[\"AAL\"]\n",
    "\n",
    "plt.clf()\n",
    "\n",
    "plt.ylabel('Average Stock Price')\n",
    "plt.xlabel('Date')\n",
    "plt.title('AAL Stock Price')\n",
    "\n",
    "#plt.xaxis.set_major_formatter(mdates.DateFormatter('%Y-%m'))\n",
    "\n",
    "plt.plot(x, y)\n",
    "plt.xticks(rotation=35)\n",
    "\n",
    "%matplot plt"
   ]
  },
  {
   "cell_type": "code",
   "execution_count": 11,
   "metadata": {
    "execution": {
     "iopub.execute_input": "2022-04-02T23:17:21.614580Z",
     "iopub.status.busy": "2022-04-02T23:17:21.614312Z",
     "iopub.status.idle": "2022-04-02T23:17:21.853849Z",
     "shell.execute_reply": "2022-04-02T23:17:21.821591Z",
     "shell.execute_reply.started": "2022-04-02T23:17:21.614544Z"
    },
    "tags": []
   },
   "outputs": [
    {
     "data": {
      "application/vnd.jupyter.widget-view+json": {
       "model_id": "52a220a629e74f30acd6bc2af68e0946",
       "version_major": 2,
       "version_minor": 0
      },
      "text/plain": [
       "VBox()"
      ]
     },
     "metadata": {},
     "output_type": "display_data"
    },
    {
     "data": {
      "application/vnd.jupyter.widget-view+json": {
       "model_id": "",
       "version_major": 2,
       "version_minor": 0
      },
      "text/plain": [
       "FloatProgress(value=0.0, bar_style='info', description='Progress:', layout=Layout(height='25px', width='50%'),…"
      ]
     },
     "metadata": {},
     "output_type": "display_data"
    }
   ],
   "source": [
    "# \n",
    "# 3000 Stocks - Sample Queries\n",
    "# \n",
    "\n",
    "# Average price per year for 3000 stocks\n",
    "# pricing_minute.select( * [mean(c).alias(c) for c in pricing_minute.columns]).orderBy(\"year\").orderBy(\"year\").show()\n",
    "\n",
    "# Average price per year and month for a 3000 stocks\n",
    "# pricing_minute.select( * [mean(c).alias(c) for c in pricing_minute.columns]).orderBy(\"year\", \"month\").orderBy(\"year\", \"month\").show()\n",
    "\n",
    "# Average price per year, month and day for 3000 stocks\n",
    "# pricing_minute.select( * [mean(c).alias(c) for c in pricing_minute.columns]).orderBy(\"year\", \"month\", \"dayofmonth\").orderBy(\"year\", \"month\", \"dayofmonth\").show(100)"
   ]
  },
  {
   "cell_type": "markdown",
   "metadata": {},
   "source": [
    "# Fundamental Data via. Spark + Pandas"
   ]
  },
  {
   "cell_type": "code",
   "execution_count": 12,
   "metadata": {
    "execution": {
     "iopub.execute_input": "2022-04-02T23:17:21.855120Z",
     "iopub.status.busy": "2022-04-02T23:17:21.854869Z",
     "iopub.status.idle": "2022-04-02T23:17:23.265373Z",
     "shell.execute_reply": "2022-04-02T23:17:23.264571Z",
     "shell.execute_reply.started": "2022-04-02T23:17:21.855084Z"
    }
   },
   "outputs": [
    {
     "data": {
      "application/vnd.jupyter.widget-view+json": {
       "model_id": "e45aeef350504c5cb1be74420a682658",
       "version_major": 2,
       "version_minor": 0
      },
      "text/plain": [
       "VBox()"
      ]
     },
     "metadata": {},
     "output_type": "display_data"
    },
    {
     "data": {
      "application/vnd.jupyter.widget-view+json": {
       "model_id": "",
       "version_major": 2,
       "version_minor": 0
      },
      "text/plain": [
       "FloatProgress(value=0.0, bar_style='info', description='Progress:', layout=Layout(height='25px', width='50%'),…"
      ]
     },
     "metadata": {},
     "output_type": "display_data"
    }
   ],
   "source": [
    "# Visualize - Box plot by industry\n",
    "\n",
    "# Use the fundamental data filter the pricing data set to healthcare sector and a market cap over 1,000,000\n",
    "health_care_market_cap_1000_plus = fundamentals.filter(fundamentals.sector == \"Healthcare\").filter(fundamentals.marketcapitalization > 1000000)\n",
    "\n",
    "stock_symbol_list = list(health_care_market_cap_1000_plus.select('symbol').toPandas()['symbol'])\n",
    "stock_symbol_list.append('year')\n",
    "stock_symbol_list.append('month')\n",
    "stock_symbol_list.append('dayofmonth')\n",
    "\n",
    "health_care_market_cap_1000_plus_minute_pricing = pricing_minute.select([c for c in pricing_minute.columns if c in stock_symbol_list])"
   ]
  },
  {
   "cell_type": "code",
   "execution_count": 13,
   "metadata": {
    "execution": {
     "iopub.execute_input": "2022-04-02T23:17:23.267131Z",
     "iopub.status.busy": "2022-04-02T23:17:23.266872Z",
     "iopub.status.idle": "2022-04-02T23:17:23.575085Z",
     "shell.execute_reply": "2022-04-02T23:17:23.574252Z",
     "shell.execute_reply.started": "2022-04-02T23:17:23.267096Z"
    },
    "tags": []
   },
   "outputs": [
    {
     "data": {
      "application/vnd.jupyter.widget-view+json": {
       "model_id": "3cf7bf6ef613463eb0767f92ceec89c5",
       "version_major": 2,
       "version_minor": 0
      },
      "text/plain": [
       "VBox()"
      ]
     },
     "metadata": {},
     "output_type": "display_data"
    },
    {
     "data": {
      "application/vnd.jupyter.widget-view+json": {
       "model_id": "",
       "version_major": 2,
       "version_minor": 0
      },
      "text/plain": [
       "FloatProgress(value=0.0, bar_style='info', description='Progress:', layout=Layout(height='25px', width='50%'),…"
      ]
     },
     "metadata": {},
     "output_type": "display_data"
    }
   ],
   "source": [
    "# convert data type to int\n",
    "fundamentals = fundamentals.withColumn(\"peratio\", fundamentals['peratio'].cast('float'))"
   ]
  },
  {
   "cell_type": "markdown",
   "metadata": {},
   "source": [
    "## PE Ration Grouped by Sector - Chart"
   ]
  },
  {
   "cell_type": "code",
   "execution_count": 14,
   "metadata": {
    "execution": {
     "iopub.execute_input": "2022-04-02T23:17:23.576599Z",
     "iopub.status.busy": "2022-04-02T23:17:23.576359Z",
     "iopub.status.idle": "2022-04-02T23:17:24.894795Z",
     "shell.execute_reply": "2022-04-02T23:17:24.894142Z",
     "shell.execute_reply.started": "2022-04-02T23:17:23.576566Z"
    },
    "tags": []
   },
   "outputs": [
    {
     "data": {
      "application/vnd.jupyter.widget-view+json": {
       "model_id": "a60e65c5638b4cb0bdac4c9b487c1946",
       "version_major": 2,
       "version_minor": 0
      },
      "text/plain": [
       "VBox()"
      ]
     },
     "metadata": {},
     "output_type": "display_data"
    },
    {
     "data": {
      "application/vnd.jupyter.widget-view+json": {
       "model_id": "",
       "version_major": 2,
       "version_minor": 0
      },
      "text/plain": [
       "FloatProgress(value=0.0, bar_style='info', description='Progress:', layout=Layout(height='25px', width='50%'),…"
      ]
     },
     "metadata": {},
     "output_type": "display_data"
    },
    {
     "data": {
      "image/png": "[encoded data removed]",
      "text/plain": [
       "<IPython.core.display.Image object>"
      ]
     },
     "metadata": {},
     "output_type": "display_data"
    }
   ],
   "source": [
    "df_fundamentals = fundamentals.toPandas()\n",
    "# df_fundamentals[df_fundamentals['sector'].isin(['Healthcare', 'Technology', 'Financial Services'])].boxplot(column=['peratio'], by='sector', showfliers=False)\n",
    "\n",
    "df_sectors_only = df_fundamentals[df_fundamentals['sector'].isin(['Healthcare', 'Technology', 'Financial Services'])]\n",
    "\n",
    "fig, ax1 = plt.subplots()\n",
    "\n",
    "df_sectors_only.boxplot(column=['peratio'], by='sector', showfliers=False)\n",
    "\n",
    "plt.title('PE Ratio Grouped by Sector')\n",
    "plt.suptitle('')\n",
    "\n",
    "%matplot plt"
   ]
  }
 ],
 "metadata": {
  "kernelspec": {
   "display_name": "PySpark",
   "language": "python",
   "name": "pysparkkernel"
  },
  "language_info": {
   "codemirror_mode": {
    "name": "python",
    "version": 3
   },
   "file_extension": ".py",
   "mimetype": "text/x-python",
   "name": "pyspark",
   "pygments_lexer": "python3"
  }
 },
 "nbformat": 4,
 "nbformat_minor": 4
}
